{
 "cells": [
  {
   "cell_type": "code",
   "execution_count": 126,
   "metadata": {},
   "outputs": [],
   "source": [
    "import pandas as pd\n",
    "import random\n",
    "import torch\n",
    "from transformers import DistilBertTokenizer, DistilBertForSequenceClassification"
   ]
  },
  {
   "cell_type": "code",
   "execution_count": 127,
   "metadata": {},
   "outputs": [
    {
     "data": {
      "text/html": [
       "<div>\n",
       "<style scoped>\n",
       "    .dataframe tbody tr th:only-of-type {\n",
       "        vertical-align: middle;\n",
       "    }\n",
       "\n",
       "    .dataframe tbody tr th {\n",
       "        vertical-align: top;\n",
       "    }\n",
       "\n",
       "    .dataframe thead th {\n",
       "        text-align: right;\n",
       "    }\n",
       "</style>\n",
       "<table border=\"1\" class=\"dataframe\">\n",
       "  <thead>\n",
       "    <tr style=\"text-align: right;\">\n",
       "      <th></th>\n",
       "      <th>Name</th>\n",
       "      <th>Age</th>\n",
       "      <th>Gender</th>\n",
       "      <th>Grade</th>\n",
       "      <th>Health Condition</th>\n",
       "      <th>Favorite Hobby</th>\n",
       "      <th>Favorite Subject</th>\n",
       "      <th>Favorite Food</th>\n",
       "      <th>Family Activity</th>\n",
       "    </tr>\n",
       "  </thead>\n",
       "  <tbody>\n",
       "    <tr>\n",
       "      <th>0</th>\n",
       "      <td>Aarav</td>\n",
       "      <td>8</td>\n",
       "      <td>Male</td>\n",
       "      <td>3</td>\n",
       "      <td>NaN</td>\n",
       "      <td>Painting</td>\n",
       "      <td>Science</td>\n",
       "      <td>Pizza</td>\n",
       "      <td>Gardening together</td>\n",
       "    </tr>\n",
       "    <tr>\n",
       "      <th>1</th>\n",
       "      <td>Ishika</td>\n",
       "      <td>10</td>\n",
       "      <td>Female</td>\n",
       "      <td>5</td>\n",
       "      <td>Asthma</td>\n",
       "      <td>Reading</td>\n",
       "      <td>Mathematics</td>\n",
       "      <td>Chocolate</td>\n",
       "      <td>Family movie night</td>\n",
       "    </tr>\n",
       "    <tr>\n",
       "      <th>2</th>\n",
       "      <td>Kabir</td>\n",
       "      <td>7</td>\n",
       "      <td>Male</td>\n",
       "      <td>2</td>\n",
       "      <td>NaN</td>\n",
       "      <td>Soccer</td>\n",
       "      <td>Art</td>\n",
       "      <td>Pasta</td>\n",
       "      <td>Sunday picnics</td>\n",
       "    </tr>\n",
       "    <tr>\n",
       "      <th>3</th>\n",
       "      <td>Diya</td>\n",
       "      <td>6</td>\n",
       "      <td>Female</td>\n",
       "      <td>1</td>\n",
       "      <td>Allergies</td>\n",
       "      <td>Dancing</td>\n",
       "      <td>Music</td>\n",
       "      <td>Ice Cream</td>\n",
       "      <td>Baking cookies together</td>\n",
       "    </tr>\n",
       "    <tr>\n",
       "      <th>4</th>\n",
       "      <td>Yuvraj</td>\n",
       "      <td>9</td>\n",
       "      <td>Male</td>\n",
       "      <td>4</td>\n",
       "      <td>NaN</td>\n",
       "      <td>Cycling</td>\n",
       "      <td>History</td>\n",
       "      <td>Burgers</td>\n",
       "      <td>Board game evenings</td>\n",
       "    </tr>\n",
       "  </tbody>\n",
       "</table>\n",
       "</div>"
      ],
      "text/plain": [
       "     Name  Age  Gender  Grade Health Condition Favorite Hobby  \\\n",
       "0   Aarav    8    Male      3              NaN       Painting   \n",
       "1  Ishika   10  Female      5           Asthma        Reading   \n",
       "2   Kabir    7    Male      2              NaN         Soccer   \n",
       "3    Diya    6  Female      1        Allergies        Dancing   \n",
       "4  Yuvraj    9    Male      4              NaN        Cycling   \n",
       "\n",
       "  Favorite Subject Favorite Food          Family Activity  \n",
       "0          Science         Pizza       Gardening together  \n",
       "1      Mathematics     Chocolate       Family movie night  \n",
       "2              Art         Pasta           Sunday picnics  \n",
       "3            Music     Ice Cream  Baking cookies together  \n",
       "4          History       Burgers      Board game evenings  "
      ]
     },
     "execution_count": 127,
     "metadata": {},
     "output_type": "execute_result"
    }
   ],
   "source": [
    "# Load the dataset\n",
    "df = pd.read_csv('data/Children_data.csv')\n",
    "\n",
    "# Display the first few rows to understand the data\n",
    "df.head()"
   ]
  },
  {
   "cell_type": "code",
   "execution_count": 128,
   "metadata": {},
   "outputs": [],
   "source": [
    "# Remove irrelevant columns (if any)\n",
    "df = df[['Name', 'Age', 'Gender', 'Grade', 'Health Condition', 'Favorite Hobby', 'Favorite Subject', 'Favorite Food', 'Family Activity']]"
   ]
  },
  {
   "cell_type": "code",
   "execution_count": 129,
   "metadata": {},
   "outputs": [
    {
     "name": "stdout",
     "output_type": "stream",
     "text": [
      "Sample Sentence from Dataset:\n",
      "Painting\n"
     ]
    }
   ],
   "source": [
    "# Select a sentence from the \"Hobbies\" column\n",
    "sample_sentence = df['Favorite Hobby'].iloc[0]  # Taking the first sentence as an example\n",
    "\n",
    "print(\"Sample Sentence from Dataset:\")\n",
    "print(sample_sentence)"
   ]
  },
  {
   "cell_type": "code",
   "execution_count": 130,
   "metadata": {},
   "outputs": [
    {
     "name": "stdout",
     "output_type": "stream",
     "text": [
      "Generated Sentence:\n",
      "Arnav is a 10-year-old male in grade 5. Their favorite hobby is soccer, and they love studying physics. They enjoy eating chocolate and spending time with family, especially family game nights.\n"
     ]
    }
   ],
   "source": [
    "# Randomly select values for the sentence\n",
    "random_row = random.choice(df.index)\n",
    "name = df.loc[random_row, 'Name']\n",
    "age = df.loc[random_row, 'Age']\n",
    "gender = df.loc[random_row, 'Gender']\n",
    "grade = df.loc[random_row, 'Grade']\n",
    "hobby = df.loc[random_row, 'Favorite Hobby']\n",
    "subject = df.loc[random_row, 'Favorite Subject']\n",
    "food = df.loc[random_row, 'Favorite Food']\n",
    "activity = df.loc[random_row, 'Family Activity']\n",
    "\n",
    "# Create a sentence\n",
    "sentence = f\"{name} is a {age}-year-old {gender.lower()} in grade {grade}. \" \\\n",
    "           f\"Their favorite hobby is {hobby.lower()}, and they love studying {subject.lower()}. \" \\\n",
    "           f\"They enjoy eating {food.lower()} and spending time with family, especially {activity.lower()}.\"\n",
    "\n",
    "print(\"Generated Sentence:\")\n",
    "print(sentence)"
   ]
  },
  {
   "cell_type": "code",
   "execution_count": 131,
   "metadata": {},
   "outputs": [
    {
     "name": "stderr",
     "output_type": "stream",
     "text": [
      "[nltk_data] Downloading package punkt to\n",
      "[nltk_data]     C:\\Users\\Mahakaal\\AppData\\Roaming\\nltk_data...\n",
      "[nltk_data]   Package punkt is already up-to-date!\n",
      "[nltk_data] Downloading package stopwords to\n",
      "[nltk_data]     C:\\Users\\Mahakaal\\AppData\\Roaming\\nltk_data...\n",
      "[nltk_data]   Package stopwords is already up-to-date!\n"
     ]
    },
    {
     "data": {
      "text/plain": [
       "True"
      ]
     },
     "execution_count": 131,
     "metadata": {},
     "output_type": "execute_result"
    }
   ],
   "source": [
    "import nltk\n",
    "\n",
    "# Download the necessary data files\n",
    "nltk.download('punkt')\n",
    "nltk.download('stopwords')"
   ]
  },
  {
   "cell_type": "code",
   "execution_count": 132,
   "metadata": {},
   "outputs": [
    {
     "name": "stderr",
     "output_type": "stream",
     "text": [
      "[nltk_data] Downloading package punkt to\n",
      "[nltk_data]     C:\\Users\\Mahakaal\\AppData\\Roaming\\nltk_data...\n",
      "[nltk_data]   Package punkt is already up-to-date!\n",
      "[nltk_data] Downloading package stopwords to\n",
      "[nltk_data]     C:\\Users\\Mahakaal\\AppData\\Roaming\\nltk_data...\n",
      "[nltk_data]   Package stopwords is already up-to-date!\n"
     ]
    }
   ],
   "source": [
    "import nltk\n",
    "import string\n",
    "import matplotlib.pyplot as plt\n",
    "\n",
    "# Ensure that the necessary data files are downloaded\n",
    "nltk.download('punkt')\n",
    "nltk.download('stopwords')\n",
    "\n",
    "# Sample sentence\n",
    "sample_sentence = \"Aarav is a 11-year-old female in grade 6. Their favorite hobby is cooking, and they love studying physics. They enjoy eating ice cream and spending time with family, especially family talent shows.\"\n"
   ]
  },
  {
   "cell_type": "code",
   "execution_count": 133,
   "metadata": {},
   "outputs": [],
   "source": [
    "# Tokenize the sample sentence using NLTK\n",
    "tokens = nltk.word_tokenize(sample_sentence)\n",
    "\n",
    "# Define stopwords\n",
    "stop_words = set(nltk.corpus.stopwords.words('english'))"
   ]
  },
  {
   "cell_type": "code",
   "execution_count": 134,
   "metadata": {},
   "outputs": [],
   "source": [
    "# Filter stopwords\n",
    "filtered_tokens = [token for token in tokens if token.lower() not in stop_words]\n",
    "\n",
    "# Count the frequency of each token\n",
    "token_counts = {}\n",
    "for token in filtered_tokens:\n",
    "    token_counts[token] = token_counts.get(token, 0) + 1"
   ]
  },
  {
   "cell_type": "code",
   "execution_count": 135,
   "metadata": {},
   "outputs": [],
   "source": [
    "# Sort the tokens by frequency\n",
    "sorted_tokens = sorted(token_counts.items(), key=lambda x: x[1], reverse=True)\n",
    "\n",
    "# Prepare data for visualization\n",
    "labels = [token[0] for token in sorted_tokens]\n",
    "values = [token[1] for token in sorted_tokens]"
   ]
  },
  {
   "cell_type": "code",
   "execution_count": 136,
   "metadata": {},
   "outputs": [
    {
     "data": {
      "image/png": "[encoded data removed]",
      "text/plain": [
       "<Figure size 1200x600 with 1 Axes>"
      ]
     },
     "metadata": {},
     "output_type": "display_data"
    }
   ],
   "source": [
    "# Plotting the tokens\n",
    "plt.figure(figsize=(12, 6))\n",
    "plt.bar(range(len(values)), values, tick_label=labels)\n",
    "plt.xlabel('Tokens')\n",
    "plt.ylabel('Frequency')\n",
    "plt.title('Tokenization of Sample Sentence (Manually Provided Stopwords)')\n",
    "plt.xticks(rotation=45, ha='right')\n",
    "plt.tight_layout()\n",
    "plt.show()"
   ]
  },
  {
   "cell_type": "code",
   "execution_count": 137,
   "metadata": {},
   "outputs": [],
   "source": [
    "# Load tokenizer and model\n",
    "tokenizer = DistilBertTokenizer.from_pretrained(\"distilbert-base-uncased-finetuned-sst-2-english\")\n",
    "model = DistilBertForSequenceClassification.from_pretrained(\"distilbert-base-uncased-finetuned-sst-2-english\")"
   ]
  },
  {
   "cell_type": "code",
   "execution_count": 138,
   "metadata": {},
   "outputs": [],
   "source": [
    "# Fine-tuning hyper-parameters\n",
    "learning_rate = 1e-5\n",
    "batch_size = 32\n",
    "warmup = 600\n",
    "max_seq_length = 128\n",
    "num_train_epochs = 3.0"
   ]
  },
  {
   "cell_type": "code",
   "execution_count": 139,
   "metadata": {},
   "outputs": [],
   "source": [
    "import torch\n",
    "from transformers import DistilBertTokenizer\n",
    "\n",
    "tokenizer = DistilBertTokenizer.from_pretrained('distilbert-base-uncased')\n",
    "max_seq_length = 128  # Set your desired maximum sequence length\n",
    "\n",
    "# Example label_to_id dictionaries for each category\n",
    "age_to_id = {\n",
    "    \"0-3\": 0,\n",
    "    \"4-7\": 1,\n",
    "    \"8-12\": 2,\n",
    "    \"13-18\": 3\n",
    "}\n",
    "\n",
    "gender_to_id = {\n",
    "    \"male\": 0,\n",
    "    \"female\": 1\n",
    "}\n",
    "\n",
    "food_to_id = {\n",
    "    \"pizza\": 0,\n",
    "    \"burger\": 1,\n",
    "    \"salad\": 2,\n",
    "    \"pasta\": 3\n",
    "}\n",
    "\n",
    "activity_to_id = {\n",
    "    \"drawing\": 0,\n",
    "    \"reading\": 1,\n",
    "    \"playing sports\": 2,\n",
    "    \"cooking\": 3,\n",
    "    \"gardening\": 4\n",
    "    # Add more activities and corresponding labels as needed\n",
    "}"
   ]
  },
  {
   "cell_type": "code",
   "execution_count": 140,
   "metadata": {},
   "outputs": [],
   "source": [
    "def prepare_data_for_distilbert(df, category, label_to_id):\n",
    "    sentences = df[category].values.tolist()\n",
    "    labels = [label_to_id[label] for label in sentences if label in label_to_id]\n",
    "    \n",
    "    # Check if sentences list is empty\n",
    "    if not sentences:\n",
    "        return None, None\n",
    "    \n",
    "    inputs = tokenizer(sentences, return_tensors=\"pt\", truncation=True, padding=True, max_length=max_seq_length)\n",
    "    labels = torch.tensor(labels)\n",
    "    \n",
    "    return inputs, labels\n"
   ]
  },
  {
   "cell_type": "code",
   "execution_count": 141,
   "metadata": {},
   "outputs": [],
   "source": [
    "# Example usage:\n",
    "filtered_df = df[df['Age'].isin(age_to_id.keys())]\n",
    "age_inputs, age_labels = prepare_data_for_distilbert(filtered_df, 'Age', age_to_id)\n",
    "\n",
    "filtered_df = df[df['Gender'].isin(gender_to_id.keys())]\n",
    "gender_inputs, gender_labels = prepare_data_for_distilbert(filtered_df, 'Gender', gender_to_id)\n",
    "\n",
    "filtered_df = df[df['Favorite Food'].isin(food_to_id.keys())]\n",
    "food_inputs, food_labels = prepare_data_for_distilbert(filtered_df, 'Favorite Food', food_to_id)\n",
    "\n",
    "filtered_df = df[df['Family Activity'].isin(activity_to_id.keys())]\n",
    "activity_inputs, activity_labels = prepare_data_for_distilbert(filtered_df, 'Family Activity', activity_to_id)"
   ]
  },
  {
   "cell_type": "code",
   "execution_count": 142,
   "metadata": {},
   "outputs": [
    {
     "data": {
      "text/plain": [
       "DistilBertForSequenceClassification(\n",
       "  (distilbert): DistilBertModel(\n",
       "    (embeddings): Embeddings(\n",
       "      (word_embeddings): Embedding(30522, 768, padding_idx=0)\n",
       "      (position_embeddings): Embedding(512, 768)\n",
       "      (LayerNorm): LayerNorm((768,), eps=1e-12, elementwise_affine=True)\n",
       "      (dropout): Dropout(p=0.1, inplace=False)\n",
       "    )\n",
       "    (transformer): Transformer(\n",
       "      (layer): ModuleList(\n",
       "        (0-5): 6 x TransformerBlock(\n",
       "          (attention): MultiHeadSelfAttention(\n",
       "            (dropout): Dropout(p=0.1, inplace=False)\n",
       "            (q_lin): Linear(in_features=768, out_features=768, bias=True)\n",
       "            (k_lin): Linear(in_features=768, out_features=768, bias=True)\n",
       "            (v_lin): Linear(in_features=768, out_features=768, bias=True)\n",
       "            (out_lin): Linear(in_features=768, out_features=768, bias=True)\n",
       "          )\n",
       "          (sa_layer_norm): LayerNorm((768,), eps=1e-12, elementwise_affine=True)\n",
       "          (ffn): FFN(\n",
       "            (dropout): Dropout(p=0.1, inplace=False)\n",
       "            (lin1): Linear(in_features=768, out_features=3072, bias=True)\n",
       "            (lin2): Linear(in_features=3072, out_features=768, bias=True)\n",
       "            (activation): GELUActivation()\n",
       "          )\n",
       "          (output_layer_norm): LayerNorm((768,), eps=1e-12, elementwise_affine=True)\n",
       "        )\n",
       "      )\n",
       "    )\n",
       "  )\n",
       "  (pre_classifier): Linear(in_features=768, out_features=768, bias=True)\n",
       "  (classifier): Linear(in_features=768, out_features=2, bias=True)\n",
       "  (dropout): Dropout(p=0.2, inplace=False)\n",
       ")"
      ]
     },
     "execution_count": 142,
     "metadata": {},
     "output_type": "execute_result"
    }
   ],
   "source": [
    "optimizer = torch.optim.AdamW(model.parameters(), lr=learning_rate)\n",
    "model.train()"
   ]
  },
  {
   "cell_type": "code",
   "execution_count": 143,
   "metadata": {},
   "outputs": [],
   "source": [
    "# Example usage for training loop\n",
    "category = 'Age'  # Change this to the category you want to predict\n",
    "label_to_id = age_to_id  # Change this to the corresponding label_to_id dictionary\n",
    "\n",
    "for epoch in range(int(num_train_epochs)):\n",
    "    for i in range(0, len(filtered_df), batch_size):\n",
    "        # Prepare data for the current batch\n",
    "        batch_df = filtered_df[i:i+batch_size]\n",
    "        batch_inputs, batch_labels = prepare_data_for_distilbert(batch_df, category, label_to_id)\n",
    "        \n",
    "        if batch_inputs is not None and batch_labels is not None:\n",
    "            # Ensure all necessary keys are present in the inputs dictionary\n",
    "            if 'input_ids' not in batch_inputs:\n",
    "                batch_inputs = {k: v for k, v in batch_inputs.items() if v is not None}\n",
    "            \n",
    "            # Perform training for this batch\n",
    "            optimizer.zero_grad()\n",
    "            outputs = model(**batch_inputs, labels=batch_labels)"
   ]
  },
  {
   "cell_type": "code",
   "execution_count": 144,
   "metadata": {},
   "outputs": [],
   "source": [
    "# Save the fine-tuned model\n",
    "model.save_pretrained(\"fine_tuned_model\")"
   ]
  },
  {
   "cell_type": "code",
   "execution_count": 145,
   "metadata": {},
   "outputs": [],
   "source": [
    "# Load the fine-tuned model\n",
    "model = DistilBertForSequenceClassification.from_pretrained(\"fine_tuned_model\")"
   ]
  },
  {
   "cell_type": "code",
   "execution_count": 146,
   "metadata": {},
   "outputs": [],
   "source": [
    "def predict_child_details(query):\n",
    "    # Extract the name and detail from the query\n",
    "    name = query.split()[-1].strip(\"?\")\n",
    "    detail = query.split()[-3].lower()\n",
    "    \n",
    "    # Search for the name in the dataset\n",
    "    row = df[df['Name'] == name]\n",
    "    \n",
    "    if len(row) == 0:\n",
    "        print(f\"No row found for {name}.\")\n",
    "        return \"Child not found\"\n",
    "    \n",
    "    if detail == \"favorite food\":\n",
    "        return row['Favorite Food'].iloc[0]\n",
    "    elif detail == \"age\":\n",
    "        return row['Age'].iloc[0]\n",
    "    elif detail == \"gender\":\n",
    "        return row['Gender'].iloc[0]\n",
    "    elif detail == \"grade\":\n",
    "        return row['Grade'].iloc[0]\n",
    "    elif detail == \"health condition\":\n",
    "        return row['Health Condition'].iloc[0]\n",
    "    elif detail == \"favorite hobby\":\n",
    "        return row['Favorite Hobby'].iloc[0]\n",
    "    elif detail == \"favorite subject\":\n",
    "        return row['Favorite Subject'].iloc[0]\n",
    "    elif detail == \"family activity\":\n",
    "        return row['Family Activity'].iloc[0]\n",
    "    else:\n",
    "        print(f\"Invalid detail '{detail}'.\")\n",
    "        return \"Invalid detail\""
   ]
  },
  {
   "cell_type": "code",
   "execution_count": 147,
   "metadata": {},
   "outputs": [],
   "source": [
    "def predict_child_details(query):\n",
    "    # Extract the name from the query\n",
    "    name = query.split()[-1].strip(\"?\")\n",
    "    \n",
    "    # Search for the name in the dataset\n",
    "    row = df[df['Name'] == name]\n",
    "    \n",
    "    if len(row) == 0:\n",
    "        print(f\"No row found for {name}.\")\n",
    "        return \"Child not found\"\n",
    "    \n",
    "    details = {}\n",
    "    details['Name'] = row['Name'].iloc[0]\n",
    "    details['Age'] = row['Age'].iloc[0]\n",
    "    details['Gender'] = row['Gender'].iloc[0]\n",
    "    details['Grade'] = row['Grade'].iloc[0]\n",
    "    details['Health Condition'] = row['Health Condition'].iloc[0]\n",
    "    details['Favorite Hobby'] = row['Favorite Hobby'].iloc[0]\n",
    "    details['Favorite Subject'] = row['Favorite Subject'].iloc[0]\n",
    "    details['Favorite Food'] = row['Favorite Food'].iloc[0]\n",
    "    details['Family Activity'] = row['Family Activity'].iloc[0]\n",
    "    \n",
    "    return details"
   ]
  },
  {
   "cell_type": "code",
   "execution_count": 148,
   "metadata": {},
   "outputs": [
    {
     "name": "stdout",
     "output_type": "stream",
     "text": [
      "Predicted Gender: {'Name': 'Aarav', 'Age': 8, 'Gender': 'Male', 'Grade': 3, 'Health Condition': nan, 'Favorite Hobby': 'Painting', 'Favorite Subject': 'Science', 'Favorite Food': 'Pizza', 'Family Activity': 'Gardening together'}\n"
     ]
    }
   ],
   "source": [
    "query = \"What is the gender of Aarav?\"\n",
    "predicted_gender = predict_child_details(query)\n",
    "print(\"Predicted Gender:\", predicted_gender)"
   ]
  },
  {
   "cell_type": "code",
   "execution_count": 149,
   "metadata": {},
   "outputs": [
    {
     "name": "stdout",
     "output_type": "stream",
     "text": [
      "Predicted Favorite Subject: {'Name': 'Kabir', 'Age': 7, 'Gender': 'Male', 'Grade': 2, 'Health Condition': nan, 'Favorite Hobby': 'Soccer', 'Favorite Subject': 'Art', 'Favorite Food': 'Pasta', 'Family Activity': 'Sunday picnics'}\n"
     ]
    }
   ],
   "source": [
    "query = \"What is the favorite subject of Kabir?\"\n",
    "predicted_subject = predict_child_details(query)\n",
    "print(\"Predicted Favorite Subject:\", predicted_subject)"
   ]
  },
  {
   "cell_type": "code",
   "execution_count": 150,
   "metadata": {},
   "outputs": [
    {
     "name": "stdout",
     "output_type": "stream",
     "text": [
      "Predicted Family Activity: Baking cookies together\n"
     ]
    }
   ],
   "source": [
    "query = \"What is the family activity of Diya?\"\n",
    "predicted_activity = predict_child_details(query)\n",
    "print(\"Predicted Family Activity:\", predicted_activity['Family Activity'])"
   ]
  },
  {
   "cell_type": "code",
   "execution_count": 151,
   "metadata": {},
   "outputs": [
    {
     "name": "stdout",
     "output_type": "stream",
     "text": [
      "Predicted Count: 101\n"
     ]
    }
   ],
   "source": [
    "query = \"How many females are there?\"\n",
    "count = len(df[df['Gender'] == 'Female'])\n",
    "print(f\"Predicted Count: {count}\")"
   ]
  },
  {
   "cell_type": "code",
   "execution_count": null,
   "metadata": {},
   "outputs": [],
   "source": []
  },
  {
   "cell_type": "code",
   "execution_count": null,
   "metadata": {},
   "outputs": [],
   "source": []
  }
 ],
 "metadata": {
  "kernelspec": {
   "display_name": "env",
   "language": "python",
   "name": "python3"
  },
  "language_info": {
   "codemirror_mode": {
    "name": "ipython",
    "version": 3
   },
   "file_extension": ".py",
   "mimetype": "text/x-python",
   "name": "python",
   "nbconvert_exporter": "python",
   "pygments_lexer": "ipython3",
   "version": "3.12.3"
  }
 },
 "nbformat": 4,
 "nbformat_minor": 2
}
